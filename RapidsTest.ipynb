{
 "cells": [
  {
   "attachments": {},
   "cell_type": "markdown",
   "id": "5cdf7f03",
   "metadata": {},
   "source": [
    "# CUDA Rapids Test Notebook\n",
    "\n",
    "This Notebook tests all vertsion of all libraries which are needed for CUDA Rapids. It should run in Docker for easiest setup."
   ]
  },
  {
   "cell_type": "code",
   "execution_count": null,
   "id": "b1fdfad4",
   "metadata": {},
   "outputs": [],
   "source": [
    "# Check for NVIDIA GPU\n",
    "!nvidia-smi"
   ]
  },
  {
   "cell_type": "code",
   "execution_count": null,
   "id": "131a55c1",
   "metadata": {},
   "outputs": [],
   "source": [
    "# Python bindings to the NVIDIA Management Library\n",
    "import pynvml\n",
    "pynvml.nvmlInit()\n",
    "gpu_mem = round(pynvml.nvmlDeviceGetMemoryInfo(pynvml.nvmlDeviceGetHandleByIndex(0)).total/1024**3)\n",
    "print(\"your GPU has\", gpu_mem, \"GB\")"
   ]
  },
  {
   "cell_type": "code",
   "execution_count": null,
   "id": "4c0b4a2c",
   "metadata": {},
   "outputs": [],
   "source": [
    "# pandas dataframes\n",
    "import pandas as pd; print('Pandas Version:', pd.__version__)"
   ]
  },
  {
   "cell_type": "code",
   "execution_count": null,
   "id": "3e6d160e",
   "metadata": {},
   "outputs": [],
   "source": [
    "# here we create a Pandas DataFrame with\n",
    "# two columns named \"key\" and \"value\"\n",
    "df = pd.DataFrame()\n",
    "df['key'] = [0, 0, 2, 2, 3]\n",
    "df['value'] = [float(i + 10) for i in range(5)]\n",
    "print(df)"
   ]
  },
  {
   "cell_type": "code",
   "execution_count": null,
   "id": "f3660656",
   "metadata": {},
   "outputs": [],
   "source": [
    "# add and test lightning\n",
    "import lightning as lightning\n",
    "print('Lightning Version:', lightning.__version__)"
   ]
  },
  {
   "attachments": {},
   "cell_type": "markdown",
   "id": "e522ba64",
   "metadata": {},
   "source": [
    "Here is the moment, when normal AI installations are different from RAPIDS."
   ]
  },
  {
   "cell_type": "code",
   "execution_count": null,
   "id": "0bb591b2",
   "metadata": {},
   "outputs": [],
   "source": [
    "import cudf\n",
    "print('cuDF Version:', cudf.__version__)\n",
    "\n",
    "# here we create a cuDF DataFrame with the same data\n",
    "gdf = cudf.DataFrame()\n",
    "gdf['key'] = [0, 0, 2, 2, 3]\n",
    "gdf['value'] = [float(i + 10) for i in range(5)]\n",
    "print(gdf)"
   ]
  }
 ],
 "metadata": {
  "kernelspec": {
   "display_name": "Python 3 (ipykernel)",
   "language": "python",
   "name": "python3"
  },
  "language_info": {
   "codemirror_mode": {
    "name": "ipython",
    "version": 3
   },
   "file_extension": ".py",
   "mimetype": "text/x-python",
   "name": "python",
   "nbconvert_exporter": "python",
   "pygments_lexer": "ipython3",
   "version": "3.10.10"
  }
 },
 "nbformat": 4,
 "nbformat_minor": 5
}
