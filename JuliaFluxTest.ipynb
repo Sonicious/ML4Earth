{
 "cells": [
  {
   "attachments": {},
   "cell_type": "markdown",
   "metadata": {},
   "source": [
    "# Julia Test Notebook\n",
    "\n",
    "This notebook is to test all necessary notebooks in Julia 1.9"
   ]
  },
  {
   "cell_type": "code",
   "execution_count": 1,
   "metadata": {},
   "outputs": [
    {
     "name": "stdout",
     "output_type": "stream",
     "text": [
      "CUDA is working\n"
     ]
    },
    {
     "name": "stdout",
     "output_type": "stream",
     "text": [
      "CUDA runtime 12.1, artifact installation\n",
      "CUDA driver 12.1\n",
      "NVIDIA driver 531.68.0\n",
      "\n",
      "Libraries: \n",
      "- CUBLAS: 12.1.3\n"
     ]
    },
    {
     "name": "stdout",
     "output_type": "stream",
     "text": [
      "- CURAND: 10.3.2\n",
      "- CUFFT: 11.0.2\n",
      "- CUSOLVER: 11.4.5"
     ]
    },
    {
     "name": "stdout",
     "output_type": "stream",
     "text": [
      "\n",
      "- CUSPARSE: 12.1.0\n",
      "- CUPTI: 18.0.0\n",
      "- NVML: 12.0.0+531.68\n",
      "\n",
      "Toolchain:\n",
      "- Julia: 1.9.0-rc2\n",
      "- LLVM: 14.0.6\n",
      "- PTX ISA support: 3.2, 4.0, 4.1, 4.2, 4.3, 5.0, 6.0, 6.1, 6.3, 6.4, 6.5, 7.0, 7.1, 7.2, 7.3, 7.4, 7.5\n",
      "- Device capability support: sm_37, sm_50, sm_52, sm_53, sm_60, sm_61, sm_62, sm_70, sm_72, sm_75, sm_80, sm_86\n",
      "\n",
      "1 device:\n",
      "  0: NVIDIA GeForce RTX 3070 Laptop GPU (sm_86, 5.626 GiB / 8.000 GiB available)\n"
     ]
    },
    {
     "name": "stdout",
     "output_type": "stream",
     "text": [
      "Effective GPU memory usage: 12.95% (1.036 GiB/8.000 GiB)\n",
      "Memory pool usage: 0 bytes (0 bytes reserved)\n"
     ]
    }
   ],
   "source": [
    "using CUDA\n",
    "using Flux\n",
    "using Flux: Chain, Dense, gpu, cpu, params, sigmoid, train!\n",
    "using BSON: @save, @load\n",
    "\n",
    "CUDA.functional() ? println(\"CUDA is working\") : println(\"CUDA is not working\")\n",
    "\n",
    "CUDA.versioninfo()\n",
    "CUDA.reclaim()\n",
    "CUDA.memory_status()"
   ]
  },
  {
   "cell_type": "code",
   "execution_count": 2,
   "metadata": {},
   "outputs": [
    {
     "name": "stdout",
     "output_type": "stream",
     "text": [
      "model setup finished\n"
     ]
    }
   ],
   "source": [
    "# Define a simple model\n",
    "model = Chain(\n",
    "    Dense(2 => 3, sigmoid),\n",
    "    Dense(3 => 1)\n",
    ")\n",
    "\n",
    "model = model |> gpu\n",
    "\n",
    "# Define a loss function\n",
    "loss(x, y) = Flux.mse(model(x), y)\n",
    "\n",
    "println(\"model setup finished\")"
   ]
  },
  {
   "cell_type": "code",
   "execution_count": 3,
   "metadata": {},
   "outputs": [
    {
     "name": "stdout",
     "output_type": "stream",
     "text": [
      "model training finished\n"
     ]
    }
   ],
   "source": [
    "# Define some training data\n",
    "x = rand(Float32,2, 100) |> gpu\n",
    "y = model(x)\n",
    "\n",
    "# Train the model\n",
    "Flux.train!(loss, params(model), [(x, y)], ADAM())\n",
    "\n",
    "println(\"model training finished\")"
   ]
  },
  {
   "cell_type": "code",
   "execution_count": 4,
   "metadata": {},
   "outputs": [
    {
     "name": "stdout",
     "output_type": "stream",
     "text": [
      "model saved\n"
     ]
    }
   ],
   "source": [
    "# Save the model\n",
    "model = cpu(model)\n",
    "@save \"model.bson\" model\n",
    "model = nothing\n",
    "\n",
    "println(\"model saved\")"
   ]
  },
  {
   "cell_type": "code",
   "execution_count": 5,
   "metadata": {},
   "outputs": [
    {
     "name": "stdout",
     "output_type": "stream",
     "text": [
      "model loaded\n"
     ]
    }
   ],
   "source": [
    "# Load the model\n",
    "@load \"model.bson\" model\n",
    "\n",
    "println(\"model loaded\")"
   ]
  },
  {
   "cell_type": "code",
   "execution_count": 6,
   "metadata": {},
   "outputs": [
    {
     "name": "stdout",
     "output_type": "stream",
     "text": [
      "test done\n"
     ]
    }
   ],
   "source": [
    "# Test the model on cpu and gpu\n",
    "x = rand(Float32,2, 100)\n",
    "y = model(x)\n",
    "\n",
    "x = rand(Float32,2, 100) |> gpu\n",
    "model = gpu(model)\n",
    "y = model(x)\n",
    "\n",
    "println(\"test done\")"
   ]
  }
 ],
 "metadata": {
  "kernelspec": {
   "display_name": "Julia 1.9.0",
   "language": "julia",
   "name": "julia-1.9"
  },
  "language_info": {
   "file_extension": ".jl",
   "mimetype": "application/julia",
   "name": "julia",
   "version": "1.9.0"
  },
  "orig_nbformat": 4
 },
 "nbformat": 4,
 "nbformat_minor": 2
}
