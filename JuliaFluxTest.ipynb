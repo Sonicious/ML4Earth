{
 "cells": [
  {
   "attachments": {},
   "cell_type": "markdown",
   "metadata": {},
   "source": [
    "# Julia Test Notebook\n",
    "\n",
    "This notebook is to test all necessary notebooks in Julia 1.9"
   ]
  },
  {
   "cell_type": "code",
   "execution_count": 15,
   "metadata": {},
   "outputs": [
    {
     "name": "stdout",
     "output_type": "stream",
     "text": [
      "CUDA is working\n"
     ]
    }
   ],
   "source": [
    "using CUDA\n",
    "using Flux\n",
    "using Flux: Chain, Dense, gpu, cpu, params, sigmoid, train!\n",
    "using BSON: @save, @load\n",
    "\n",
    "CUDA.functional() ? println(\"CUDA is working\") : println(\"CUDA is not working\")"
   ]
  },
  {
   "cell_type": "code",
   "execution_count": 24,
   "metadata": {},
   "outputs": [
    {
     "data": {
      "text/plain": [
       "loss (generic function with 1 method)"
      ]
     },
     "metadata": {},
     "output_type": "display_data"
    }
   ],
   "source": [
    "# Define a simple model\n",
    "model = Chain(\n",
    "    Dense(2 => 3, sigmoid),\n",
    "    Dense(3 => 1)\n",
    ")\n",
    "\n",
    "model = gpu(model)\n",
    "\n",
    "# Define a loss function\n",
    "loss(x, y) = Flux.mse(model(x), y)"
   ]
  },
  {
   "cell_type": "code",
   "execution_count": 25,
   "metadata": {},
   "outputs": [],
   "source": [
    "# Define some training data\n",
    "x = CUDA.rand(2, 100)\n",
    "y = model(x)\n",
    "\n",
    "# Train the model\n",
    "Flux.train!(loss, params(model), [(x, y)], ADAM())"
   ]
  },
  {
   "cell_type": "code",
   "execution_count": 26,
   "metadata": {},
   "outputs": [],
   "source": [
    "# Save the model\n",
    "model = cpu(model)\n",
    "@save \"model.bson\" model\n",
    "model = nothing"
   ]
  },
  {
   "cell_type": "code",
   "execution_count": 27,
   "metadata": {},
   "outputs": [
    {
     "data": {
      "text/plain": [
       "Chain(\n",
       "  Dense(2 => 3, σ),                     \u001b[90m# 9 parameters\u001b[39m\n",
       "  Dense(3 => 1),                        \u001b[90m# 4 parameters\u001b[39m\n",
       ") \u001b[90m                  # Total: 4 arrays, \u001b[39m13 parameters, 308 bytes."
      ]
     },
     "metadata": {},
     "output_type": "display_data"
    }
   ],
   "source": [
    "# Load the model\n",
    "@load \"model.bson\" model\n",
    "model"
   ]
  },
  {
   "cell_type": "code",
   "execution_count": 28,
   "metadata": {},
   "outputs": [
    {
     "name": "stdout",
     "output_type": "stream",
     "text": [
      "test done\n"
     ]
    }
   ],
   "source": [
    "# Test the model\n",
    "x = rand(2, 100)\n",
    "y = model(x)\n",
    "\n",
    "println(\"test done\")"
   ]
  }
 ],
 "metadata": {
  "kernelspec": {
   "display_name": "Julia 1.9.0-rc2",
   "language": "julia",
   "name": "julia-1.9"
  },
  "language_info": {
   "file_extension": ".jl",
   "mimetype": "application/julia",
   "name": "julia",
   "version": "1.9.0-rc2"
  },
  "orig_nbformat": 4
 },
 "nbformat": 4,
 "nbformat_minor": 2
}
