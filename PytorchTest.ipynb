{
 "cells": [
  {
   "cell_type": "code",
   "execution_count": 1,
   "metadata": {},
   "outputs": [
    {
     "name": "stdout",
     "output_type": "stream",
     "text": [
      "PyTorch version: 2.0.0\n",
      "PyTorch Vision version: 0.15.0\n",
      "Python version: 3.10.10 | packaged by conda-forge | (main, Mar 24 2023, 20:00:38) [MSC v.1934 64 bit (AMD64)]\n"
     ]
    }
   ],
   "source": [
    "import torch\n",
    "import torchvision\n",
    "import sys\n",
    "\n",
    "#torch version\n",
    "print(f\"PyTorch version: {torch.__version__}\")\n",
    "# torchvision version\n",
    "print(f\"PyTorch Vision version: {torchvision.__version__}\")\n",
    "# python version\n",
    "print(f\"Python version: {sys.version}\")"
   ]
  }
 ],
 "metadata": {
  "kernelspec": {
   "display_name": "ML4Earth",
   "language": "python",
   "name": "python3"
  },
  "language_info": {
   "codemirror_mode": {
    "name": "ipython",
    "version": 3
   },
   "file_extension": ".py",
   "mimetype": "text/x-python",
   "name": "python",
   "nbconvert_exporter": "python",
   "pygments_lexer": "ipython3",
   "version": "3.10.10"
  },
  "orig_nbformat": 4
 },
 "nbformat": 4,
 "nbformat_minor": 2
}
